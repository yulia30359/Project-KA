{
  "cells": [
    {
      "cell_type": "markdown",
      "metadata": {
        "id": "Aaw81a_dArfL"
      },
      "source": [
        "# Library Yang Dibutuhkan"
      ]
    },
    {
      "cell_type": "code",
      "execution_count": null,
      "metadata": {
        "id": "6LryQB2dv4dC"
      },
      "outputs": [],
      "source": [
        "import numpy as np  # Import pustaka NumPy dan beri alias \"np\".\n",
        "import matplotlib.pyplot as plt  # Import pustaka Matplotlib dan beri alias \"plt\".\n",
        "import tensorflow as tf  # Import pustaka TensorFlow dan beri alias \"tf\".\n",
        "from tensorflow.keras.layers import Input, Dense  # Import modul Input dan Dense dari pustaka Keras.\n",
        "from tensorflow.keras.models import Model  # Import kelas Model dari pustaka Keras."
      ]
    },
    {
      "cell_type": "markdown",
      "metadata": {
        "id": "Gpbw_M80Av6H"
      },
      "source": [
        "# Load Data"
      ]
    },
    {
      "cell_type": "code",
      "execution_count": null,
      "metadata": {
        "colab": {
          "base_uri": "https://localhost:8080/"
        },
        "id": "oppciKGDwIA2",
        "outputId": "0983b9fd-3019-439d-b8b6-e61b0a61af00"
      },
      "outputs": [
        {
          "output_type": "stream",
          "name": "stdout",
          "text": [
            "Downloading data from https://storage.googleapis.com/tensorflow/tf-keras-datasets/mnist.npz\n",
            "11490434/11490434 [==============================] - 0s 0us/step\n",
            "Model: \"sequential\"\n",
            "_________________________________________________________________\n",
            " Layer (type)                Output Shape              Param #   \n",
            "=================================================================\n",
            " conv2d (Conv2D)             (None, 26, 26, 32)        320       \n",
            "                                                                 \n",
            " max_pooling2d (MaxPooling2  (None, 13, 13, 32)        0         \n",
            " D)                                                              \n",
            "                                                                 \n",
            " conv2d_1 (Conv2D)           (None, 11, 11, 64)        18496     \n",
            "                                                                 \n",
            " max_pooling2d_1 (MaxPoolin  (None, 5, 5, 64)          0         \n",
            " g2D)                                                            \n",
            "                                                                 \n",
            " conv2d_2 (Conv2D)           (None, 3, 3, 64)          36928     \n",
            "                                                                 \n",
            " flatten (Flatten)           (None, 576)               0         \n",
            "                                                                 \n",
            " dense (Dense)               (None, 64)                36928     \n",
            "                                                                 \n",
            " dense_1 (Dense)             (None, 10)                650       \n",
            "                                                                 \n",
            "=================================================================\n",
            "Total params: 93322 (364.54 KB)\n",
            "Trainable params: 93322 (364.54 KB)\n",
            "Non-trainable params: 0 (0.00 Byte)\n",
            "_________________________________________________________________\n"
          ]
        }
      ],
      "source": [
        "import tensorflow as tf\n",
        "from tensorflow.keras import layers, models\n",
        "\n",
        "# Load data\n",
        "mnist = tf.keras.datasets.mnist #menggunakan dataset yang berisi gambar angka tulisan 0 - 9\n",
        "(training_images, training_labels), (test_images, test_labels) = mnist.load_data() #Memuat data pelatihan\n",
        "\n",
        "# Preprocess the data\n",
        "training_images = training_images.reshape((60000, 28, 28, 1)).astype('float32') / 255 #menyesuaikan bntk data pelatihan ke piksel rentang 0-1\n",
        "test_images = test_images.reshape((10000, 28, 28, 1)).astype('float32') / 255 #Menyesuaikan bntk data yang sama\n",
        "\n",
        "# Create a simple convolutional neural network (CNN) model\n",
        "model = models.Sequential() #membuat sequaential menggunakan pustaka keras\n",
        "model.add(layers.Conv2D(32, (3, 3), activation='relu', input_shape=(28, 28, 1)))\n",
        "model.add(layers.MaxPooling2D((2, 2)))\n",
        "model.add(layers.Conv2D(64, (3, 3), activation='relu'))\n",
        "model.add(layers.MaxPooling2D((2, 2)))\n",
        "model.add(layers.Conv2D(64, (3, 3), activation='relu'))\n",
        "model.add(layers.Flatten())\n",
        "model.add(layers.Dense(64, activation='relu'))\n",
        "model.add(layers.Dense(10, activation='softmax'))\n",
        "\n",
        "# Compile the model #Mengompilasi model dengan\n",
        "model.compile(optimizer='adam',\n",
        "              loss='sparse_categorical_crossentropy',\n",
        "              metrics=['accuracy'])\n",
        "\n",
        "# Print the model summary\n",
        "model.summary() #mencetak ringkasan arsitektur\n"
      ]
    },
    {
      "cell_type": "code",
      "execution_count": null,
      "metadata": {
        "colab": {
          "base_uri": "https://localhost:8080/"
        },
        "id": "C-HJxbDIw77U",
        "outputId": "4861afe9-8e82-45d8-8a2f-48355aca8773"
      },
      "outputs": [
        {
          "output_type": "stream",
          "name": "stdout",
          "text": [
            "Terdapat 60000 contoh dengan bentuk (28, 28, 1) pada data gambar latih\n",
            "Terdapat 10000 contoh dengan bentuk (28, 28, 1) pada data gambar uji\n"
          ]
        }
      ],
      "source": [
        "train_shape = training_images.shape  # Menghitung dan menyimpan bentuk data gambar latih dalam variabel \"train_shape\".\n",
        "test_shape = test_images.shape  # Menghitung dan menyimpan bentuk data gambar uji dalam variabel \"test_shape\".\n",
        "\n",
        "print(f\"Terdapat {train_shape[0]} contoh dengan bentuk ({train_shape[1]}, {train_shape[2]}, {train_shape[3]}) pada data gambar latih\")  # Mencetak informasi tentang jumlah contoh (gambar) dalam data gambar latih beserta dimensi gambar (tinggi, lebar, dan saluran warna).\n",
        "print(f\"Terdapat {test_shape[0]} contoh dengan bentuk ({test_shape[1]}, {test_shape[2]}, {test_shape[3]}) pada data gambar uji\") # Mencetak informasi tentang jumlah contoh (gambar) dalam data gambar latih beserta dimensi gambar (tinggi, lebar, dan saluran warna)."
      ]
    },
    {
      "cell_type": "markdown",
      "metadata": {
        "id": "SSYTQv_QA092"
      },
      "source": [
        "# Data Preprarasion"
      ]
    },
    {
      "cell_type": "code",
      "execution_count": null,
      "metadata": {
        "id": "EaqZgO1hxDE5"
      },
      "outputs": [],
      "source": [
        "import numpy as np\n",
        "import tensorflow as tf\n",
        "\n",
        "# Load data\n",
        "mnist = tf.keras.datasets.mnist #menggunakan dataset yang berisi gambar angka tulisan 0 - 9\n",
        "(training_images, training_labels), (test_images, test_labels) = mnist.load_data() #Memuat data pelatihan\n",
        "\n",
        "# Normalisasi nilai piksel dengan membagi dengan 255\n",
        "training_images = training_images / 255.0\n",
        "test_images = test_images / 255.0\n",
        "\n",
        "# Reshape\n",
        "training_images = np.reshape(training_images, (training_images.shape[0], 784)) #mengubah bntk array data dengan panjang 784 piksel 28x28\n",
        "test_images = np.reshape(test_images, (test_images.shape[0], 784))\n",
        "\n"
      ]
    },
    {
      "cell_type": "markdown",
      "metadata": {
        "id": "J-kwkghUBM5v"
      },
      "source": [
        "# Membangun Model"
      ]
    },
    {
      "cell_type": "code",
      "execution_count": null,
      "metadata": {
        "id": "_R2vVqrnxISZ"
      },
      "outputs": [],
      "source": [
        "from tensorflow.keras.layers import Input, Dense, Dropout\n",
        "from tensorflow.keras.models import Model\n",
        "\n",
        "# Definisi model autoencoder\n",
        "def build_autoencoder(input_shape=(784,)): #menerima argumen\n",
        "    # Input layer\n",
        "    inputs = Input(shape=input_shape)\n",
        "\n",
        "    # Encoder mengurangi dimensi\n",
        "    h_encode = Dense(500, activation='relu')(inputs)\n",
        "    h_encode = Dense(200, activation='relu')(h_encode)\n",
        "    h_encode = Dense(100, activation='relu')(h_encode)\n",
        "    h_encode = Dense(60, activation='relu')(h_encode)\n",
        "\n",
        "    # Representasi kode (coded)\n",
        "    coded = Dense(32, activation='relu')(h_encode)\n",
        "\n",
        "    # Decoder meningkatkan dimensi\n",
        "    h_decode = Dense(60, activation='relu')(coded)\n",
        "    h_decode = Dense(100, activation='relu')(h_decode)\n",
        "    h_decode = Dense(200, activation='relu')(h_decode)\n",
        "    h_decode = Dense(500, activation='relu')(h_decode)\n",
        "\n",
        "    # Output layer dengan dropout dan aktivasi 'tanh'\n",
        "    outputs = Dense(784, activation='tanh')(h_decode)\n",
        "    outputs = Dropout(0.2)(outputs)  # Dropout untuk mencegah overfitting\n",
        "\n",
        "    # Membuat model autoencoder\n",
        "    autoencoder = Model(inputs, outputs)\n",
        "\n",
        "    return autoencoder\n",
        "\n",
        "# Membangun model autoencoder\n",
        "autoencoder = build_autoencoder()\n",
        "\n",
        "\n"
      ]
    },
    {
      "cell_type": "code",
      "execution_count": null,
      "metadata": {
        "colab": {
          "base_uri": "https://localhost:8080/"
        },
        "id": "wkF0ZQaBxZ89",
        "outputId": "28666668-67e9-424e-f5f3-9f6e46af85be"
      },
      "outputs": [
        {
          "output_type": "stream",
          "name": "stdout",
          "text": [
            "Epoch 1/25\n",
            "200/200 [==============================] - 17s 11ms/step - loss: 0.0600 - mse: 0.0600 - val_loss: 0.0348 - val_mse: 0.0348\n",
            "Epoch 2/25\n",
            "200/200 [==============================] - 1s 6ms/step - loss: 0.0441 - mse: 0.0441 - val_loss: 0.0281 - val_mse: 0.0281\n",
            "Epoch 3/25\n",
            "200/200 [==============================] - 1s 6ms/step - loss: 0.0403 - mse: 0.0403 - val_loss: 0.0249 - val_mse: 0.0249\n",
            "Epoch 4/25\n",
            "200/200 [==============================] - 1s 6ms/step - loss: 0.0384 - mse: 0.0384 - val_loss: 0.0224 - val_mse: 0.0224\n",
            "Epoch 5/25\n",
            "200/200 [==============================] - 1s 6ms/step - loss: 0.0370 - mse: 0.0370 - val_loss: 0.0210 - val_mse: 0.0210\n",
            "Epoch 6/25\n",
            "200/200 [==============================] - 1s 6ms/step - loss: 0.0361 - mse: 0.0361 - val_loss: 0.0203 - val_mse: 0.0203\n",
            "Epoch 7/25\n",
            "200/200 [==============================] - 1s 6ms/step - loss: 0.0353 - mse: 0.0353 - val_loss: 0.0193 - val_mse: 0.0193\n",
            "Epoch 8/25\n",
            "200/200 [==============================] - 2s 8ms/step - loss: 0.0347 - mse: 0.0347 - val_loss: 0.0188 - val_mse: 0.0188\n",
            "Epoch 9/25\n",
            "200/200 [==============================] - 1s 7ms/step - loss: 0.0342 - mse: 0.0342 - val_loss: 0.0181 - val_mse: 0.0181\n",
            "Epoch 10/25\n",
            "200/200 [==============================] - 1s 6ms/step - loss: 0.0337 - mse: 0.0337 - val_loss: 0.0173 - val_mse: 0.0173\n",
            "Epoch 11/25\n",
            "200/200 [==============================] - 1s 6ms/step - loss: 0.0333 - mse: 0.0333 - val_loss: 0.0172 - val_mse: 0.0172\n",
            "Epoch 12/25\n",
            "200/200 [==============================] - 1s 6ms/step - loss: 0.0330 - mse: 0.0330 - val_loss: 0.0171 - val_mse: 0.0171\n",
            "Epoch 13/25\n",
            "200/200 [==============================] - 1s 6ms/step - loss: 0.0327 - mse: 0.0327 - val_loss: 0.0164 - val_mse: 0.0164\n",
            "Epoch 14/25\n",
            "200/200 [==============================] - 1s 6ms/step - loss: 0.0324 - mse: 0.0324 - val_loss: 0.0164 - val_mse: 0.0164\n",
            "Epoch 15/25\n",
            "200/200 [==============================] - 1s 6ms/step - loss: 0.0322 - mse: 0.0322 - val_loss: 0.0157 - val_mse: 0.0157\n",
            "Epoch 16/25\n",
            "200/200 [==============================] - 1s 6ms/step - loss: 0.0320 - mse: 0.0320 - val_loss: 0.0160 - val_mse: 0.0160\n",
            "Epoch 17/25\n",
            "200/200 [==============================] - 1s 6ms/step - loss: 0.0319 - mse: 0.0319 - val_loss: 0.0155 - val_mse: 0.0155\n",
            "Epoch 18/25\n",
            "200/200 [==============================] - 2s 8ms/step - loss: 0.0317 - mse: 0.0317 - val_loss: 0.0156 - val_mse: 0.0156\n",
            "Epoch 19/25\n",
            "200/200 [==============================] - 1s 7ms/step - loss: 0.0315 - mse: 0.0315 - val_loss: 0.0153 - val_mse: 0.0153\n",
            "Epoch 20/25\n",
            "200/200 [==============================] - 1s 6ms/step - loss: 0.0314 - mse: 0.0314 - val_loss: 0.0147 - val_mse: 0.0147\n",
            "Epoch 21/25\n",
            "200/200 [==============================] - 1s 6ms/step - loss: 0.0313 - mse: 0.0313 - val_loss: 0.0150 - val_mse: 0.0150\n",
            "Epoch 22/25\n",
            "200/200 [==============================] - 1s 6ms/step - loss: 0.0311 - mse: 0.0311 - val_loss: 0.0150 - val_mse: 0.0150\n",
            "Epoch 23/25\n",
            "200/200 [==============================] - 1s 6ms/step - loss: 0.0310 - mse: 0.0310 - val_loss: 0.0146 - val_mse: 0.0146\n",
            "Epoch 24/25\n",
            "200/200 [==============================] - 1s 6ms/step - loss: 0.0309 - mse: 0.0309 - val_loss: 0.0147 - val_mse: 0.0147\n",
            "Epoch 25/25\n",
            "200/200 [==============================] - 1s 6ms/step - loss: 0.0308 - mse: 0.0308 - val_loss: 0.0140 - val_mse: 0.0140\n"
          ]
        },
        {
          "output_type": "execute_result",
          "data": {
            "text/plain": [
              "<keras.src.callbacks.History at 0x7fed7ad559f0>"
            ]
          },
          "metadata": {},
          "execution_count": 6
        }
      ],
      "source": [
        "from tensorflow.keras.layers import Input, Dense, Dropout\n",
        "from tensorflow.keras.models import Model\n",
        "\n",
        "inputs = Input(shape=(784,))\n",
        "\n",
        "# Encoder #mangurangi dimensi\n",
        "h_encode = Dense(500, activation='relu')(inputs)\n",
        "h_encode = Dense(200, activation='relu')(h_encode)\n",
        "h_encode = Dense(100, activation='relu')(h_encode)\n",
        "h_encode = Dense(60, activation='relu')(h_encode)\n",
        "\n",
        "# Representasi kode (coded)\n",
        "coded = Dense(32, activation='relu')(h_encode)\n",
        "\n",
        "# Decoder #menambahkan dimensi\n",
        "h_decode = Dense(60, activation='relu')(coded)\n",
        "h_decode = Dense(100, activation='relu')(h_decode)\n",
        "h_decode = Dense(200, activation='relu')(h_decode)\n",
        "h_decode = Dense(500, activation='relu')(h_decode)\n",
        "\n",
        "# Lapisan output dengan dropout dan aktivasi 'tanh'\n",
        "outputs = Dense(784, activation='tanh')(h_decode)\n",
        "outputs = Dropout(0.2)(outputs)  # Dropout untuk mencegah overfitting\n",
        "\n",
        "# Membuat model autoencoder\n",
        "autoencoder = Model(inputs, outputs)\n",
        "\n",
        "# Kompilasi model\n",
        "autoencoder.compile(optimizer='adam',\n",
        "                    loss='mean_squared_error',\n",
        "                    metrics=['mse'])\n",
        "\n",
        "# Pelatihan model\n",
        "autoencoder.fit(training_images, training_images,\n",
        "                epochs=25,\n",
        "                batch_size=300,\n",
        "                shuffle=True,\n",
        "                validation_data=(test_images, test_images))"
      ]
    },
    {
      "cell_type": "markdown",
      "metadata": {
        "id": "67vtQsHQBRCg"
      },
      "source": [
        "# Prediksi dan Visualisasi"
      ]
    },
    {
      "cell_type": "code",
      "execution_count": null,
      "metadata": {
        "colab": {
          "base_uri": "https://localhost:8080/"
        },
        "id": "HsT4OQ7-xcP6",
        "outputId": "a479d1e9-4682-491e-f8dc-21f77a3c765d"
      },
      "outputs": [
        {
          "output_type": "stream",
          "name": "stdout",
          "text": [
            "313/313 [==============================] - 1s 3ms/step\n"
          ]
        }
      ],
      "source": [
        "predicted_images = autoencoder.predict(test_images) #melakukan prediksi dari program sebelumnya\n"
      ]
    },
    {
      "cell_type": "code",
      "execution_count": null,
      "metadata": {
        "colab": {
          "base_uri": "https://localhost:8080/",
          "height": 355
        },
        "id": "Z6lbpdQZxc90",
        "outputId": "cef60192-3fef-4aa4-d826-9908b8a6aa32"
      },
      "outputs": [
        {
          "output_type": "display_data",
          "data": {
            "text/plain": [
              "<Figure size 3000x600 with 6 Axes>"
            ],
            "image/png": "[encoded data removed]"
          },
          "metadata": {}
        }
      ],
      "source": [
        "import matplotlib.pyplot as plt\n",
        "import numpy as np\n",
        "\n",
        "# Dummy data (gantilah dengan data sesuai kebutuhan)\n",
        "test_images = np.random.rand(3, 28, 28)\n",
        "predicted = np.random.rand(3, 28, 28)\n",
        "\n",
        "n = 3  # Jumlah gambar yang akan divisualisasikan\n",
        "\n",
        "plt.figure(figsize=(30, 6), facecolor='pink')  # Membuat gambar (figure) dengan lebar 30 dan tinggi 6, serta background warna pink\n",
        "\n",
        "# Loop untuk memvisualisasikan gambar-gambar\n",
        "for i in range(n):\n",
        "    ax = plt.subplot(3, n, i + 1)  # Membuat subplot pertama (baris pertama)\n",
        "    plt.imshow(test_images[i].reshape(28, 28), cmap='Reds')  # Menampilkan gambar asli dari data uji dengan peta warna 'Reds'\n",
        "    ax.get_xaxis().set_visible(True)  # Menampilkan sumbu x\n",
        "    ax.get_yaxis().set_visible(True)  # Menampilkan sumbu y\n",
        "\n",
        "    ax = plt.subplot(3, n, i + 1 + n)  # Membuat subplot kedua (baris kedua)\n",
        "    plt.imshow(predicted[i].reshape(28, 28), cmap='Reds')  # Menampilkan gambar rekonstruksi dari model autoencoder dengan peta warna 'Reds'\n",
        "    ax.get_xaxis().set_visible(True)  # Menampilkan sumbu x\n",
        "    ax.get_yaxis().set_visible(True)  # Menampilkan sumbu y\n",
        "\n",
        "plt.show()  # Menampilkan gambar-gambar yang telah divisualisasikan\n",
        "\n"
      ]
    },
    {
      "cell_type": "code",
      "execution_count": null,
      "metadata": {
        "id": "jcOjaP8423Lu"
      },
      "outputs": [],
      "source": []
    }
  ],
  "metadata": {
    "accelerator": "GPU",
    "colab": {
      "provenance": []
    },
    "kernelspec": {
      "display_name": "Python 3",
      "name": "python3"
    },
    "language_info": {
      "name": "python"
    }
  },
  "nbformat": 4,
  "nbformat_minor": 0
}